{
 "cells": [
  {
   "cell_type": "markdown",
   "metadata": {},
   "source": [
    "# Deep Learning - Melanoma - V2"
   ]
  },
  {
   "cell_type": "markdown",
   "metadata": {},
   "source": [
    "Plan:\n",
    "- clean csv and get a proper csv with image file name, label\n",
    "- get photos into image net format\n",
    "    - training dataset\n",
    "    - testing dataset\n",
    "- apply basic resnet learner\n",
    "- start modifying data for unbalanced dataset\n",
    "    - SMOTE? oversampling? 5 fold cross validation\n",
    "- apply resnet + training\n",
    "- add optimizations\n",
    "- test predictions & results"
   ]
  },
  {
   "cell_type": "code",
   "execution_count": 4,
   "metadata": {},
   "outputs": [],
   "source": [
    "%reload_ext autoreload\n",
    "%autoreload 2\n",
    "%matplotlib inline"
   ]
  },
  {
   "cell_type": "code",
   "execution_count": 3,
   "metadata": {},
   "outputs": [],
   "source": [
    "from fastai.vision import *\n",
    "import pandas as pd\n",
    "import numpy as np\n",
    "import seaborn as sns"
   ]
  },
  {
   "cell_type": "code",
   "execution_count": 4,
   "metadata": {},
   "outputs": [
    {
     "name": "stdout",
     "output_type": "stream",
     "text": [
      "/home/luis/code-projects/dl-melanoma-env/dl-melanoma-env-2\r\n"
     ]
    }
   ],
   "source": [
    "! pwd"
   ]
  },
  {
   "cell_type": "code",
   "execution_count": 22,
   "metadata": {},
   "outputs": [
    {
     "name": "stdout",
     "output_type": "stream",
     "text": [
      "/home/luis/code-projects/dl-melanoma-env/dl-melanoma-env-2\n"
     ]
    }
   ],
   "source": [
    "currPathStr = '/home/luis/code-projects/dl-melanoma-env/dl-melanoma-env-2'\n",
    "currPath = Path('/home/luis/code-projects/dl-melanoma-env/dl-melanoma-env-2')\n",
    "print(currPath)"
   ]
  },
  {
   "cell_type": "markdown",
   "metadata": {},
   "source": [
    "## Create clean csv"
   ]
  },
  {
   "cell_type": "code",
   "execution_count": 6,
   "metadata": {},
   "outputs": [
    {
     "data": {
      "text/html": [
       "<div>\n",
       "<style scoped>\n",
       "    .dataframe tbody tr th:only-of-type {\n",
       "        vertical-align: middle;\n",
       "    }\n",
       "\n",
       "    .dataframe tbody tr th {\n",
       "        vertical-align: top;\n",
       "    }\n",
       "\n",
       "    .dataframe thead th {\n",
       "        text-align: right;\n",
       "    }\n",
       "</style>\n",
       "<table border=\"1\" class=\"dataframe\">\n",
       "  <thead>\n",
       "    <tr style=\"text-align: right;\">\n",
       "      <th></th>\n",
       "      <th>image</th>\n",
       "      <th>MEL</th>\n",
       "      <th>NV</th>\n",
       "      <th>BCC</th>\n",
       "      <th>AKIEC</th>\n",
       "      <th>BKL</th>\n",
       "      <th>DF</th>\n",
       "      <th>VASC</th>\n",
       "    </tr>\n",
       "  </thead>\n",
       "  <tbody>\n",
       "    <tr>\n",
       "      <th>0</th>\n",
       "      <td>ISIC_0024306</td>\n",
       "      <td>0.0</td>\n",
       "      <td>1.0</td>\n",
       "      <td>0.0</td>\n",
       "      <td>0.0</td>\n",
       "      <td>0.0</td>\n",
       "      <td>0.0</td>\n",
       "      <td>0.0</td>\n",
       "    </tr>\n",
       "    <tr>\n",
       "      <th>1</th>\n",
       "      <td>ISIC_0024307</td>\n",
       "      <td>0.0</td>\n",
       "      <td>1.0</td>\n",
       "      <td>0.0</td>\n",
       "      <td>0.0</td>\n",
       "      <td>0.0</td>\n",
       "      <td>0.0</td>\n",
       "      <td>0.0</td>\n",
       "    </tr>\n",
       "    <tr>\n",
       "      <th>2</th>\n",
       "      <td>ISIC_0024308</td>\n",
       "      <td>0.0</td>\n",
       "      <td>1.0</td>\n",
       "      <td>0.0</td>\n",
       "      <td>0.0</td>\n",
       "      <td>0.0</td>\n",
       "      <td>0.0</td>\n",
       "      <td>0.0</td>\n",
       "    </tr>\n",
       "    <tr>\n",
       "      <th>3</th>\n",
       "      <td>ISIC_0024309</td>\n",
       "      <td>0.0</td>\n",
       "      <td>1.0</td>\n",
       "      <td>0.0</td>\n",
       "      <td>0.0</td>\n",
       "      <td>0.0</td>\n",
       "      <td>0.0</td>\n",
       "      <td>0.0</td>\n",
       "    </tr>\n",
       "    <tr>\n",
       "      <th>4</th>\n",
       "      <td>ISIC_0024310</td>\n",
       "      <td>1.0</td>\n",
       "      <td>0.0</td>\n",
       "      <td>0.0</td>\n",
       "      <td>0.0</td>\n",
       "      <td>0.0</td>\n",
       "      <td>0.0</td>\n",
       "      <td>0.0</td>\n",
       "    </tr>\n",
       "  </tbody>\n",
       "</table>\n",
       "</div>"
      ],
      "text/plain": [
       "          image  MEL   NV  BCC  AKIEC  BKL   DF  VASC\n",
       "0  ISIC_0024306  0.0  1.0  0.0    0.0  0.0  0.0   0.0\n",
       "1  ISIC_0024307  0.0  1.0  0.0    0.0  0.0  0.0   0.0\n",
       "2  ISIC_0024308  0.0  1.0  0.0    0.0  0.0  0.0   0.0\n",
       "3  ISIC_0024309  0.0  1.0  0.0    0.0  0.0  0.0   0.0\n",
       "4  ISIC_0024310  1.0  0.0  0.0    0.0  0.0  0.0   0.0"
      ]
     },
     "execution_count": 6,
     "metadata": {},
     "output_type": "execute_result"
    }
   ],
   "source": [
    "groundTruthDf = pd.read_csv('ISIC2018_Task3_Training_GroundTruth.csv')\n",
    "groundTruthDf.head()"
   ]
  },
  {
   "cell_type": "code",
   "execution_count": 16,
   "metadata": {},
   "outputs": [],
   "source": [
    "# given the csv label dataframe, it will return a new dataframe with two columns\n",
    "# col1 = image: contains the image name\n",
    "# col2 = classification: contains the abbreviated classification\n",
    "def createNewLabelDataframe(df):\n",
    "    imageNames = df['image'].values.tolist()\n",
    "    for i in range(len(imageNames)):\n",
    "        imageNames[i] = imageNames[i] + \".jpg\"\n",
    "    classLabels = df.columns[1:].tolist()\n",
    "    (rowNum, colNum) = df.shape\n",
    "    labelArray = []\n",
    "    for i in range(0, rowNum):\n",
    "        # find the index of the max\n",
    "        maxIndex = np.argmax(df.iloc[i, 1:].values)\n",
    "        # get the label of that index\n",
    "        tempClassLabel  = classLabels[maxIndex]\n",
    "        # append it to labelArray\n",
    "        labelArray.append(tempClassLabel)\n",
    "    labelArray = np.array(labelArray)\n",
    "#     print(imageNames[0:5])\n",
    "#     print(labelArray[0:5])\n",
    "    outputDf = pd.DataFrame({'image_filename':imageNames, 'label':labelArray})\n",
    "    return outputDf"
   ]
  },
  {
   "cell_type": "code",
   "execution_count": 17,
   "metadata": {},
   "outputs": [
    {
     "data": {
      "text/html": [
       "<div>\n",
       "<style scoped>\n",
       "    .dataframe tbody tr th:only-of-type {\n",
       "        vertical-align: middle;\n",
       "    }\n",
       "\n",
       "    .dataframe tbody tr th {\n",
       "        vertical-align: top;\n",
       "    }\n",
       "\n",
       "    .dataframe thead th {\n",
       "        text-align: right;\n",
       "    }\n",
       "</style>\n",
       "<table border=\"1\" class=\"dataframe\">\n",
       "  <thead>\n",
       "    <tr style=\"text-align: right;\">\n",
       "      <th></th>\n",
       "      <th>image_filename</th>\n",
       "      <th>label</th>\n",
       "    </tr>\n",
       "  </thead>\n",
       "  <tbody>\n",
       "    <tr>\n",
       "      <th>0</th>\n",
       "      <td>ISIC_0024306.jpg</td>\n",
       "      <td>NV</td>\n",
       "    </tr>\n",
       "    <tr>\n",
       "      <th>1</th>\n",
       "      <td>ISIC_0024307.jpg</td>\n",
       "      <td>NV</td>\n",
       "    </tr>\n",
       "    <tr>\n",
       "      <th>2</th>\n",
       "      <td>ISIC_0024308.jpg</td>\n",
       "      <td>NV</td>\n",
       "    </tr>\n",
       "    <tr>\n",
       "      <th>3</th>\n",
       "      <td>ISIC_0024309.jpg</td>\n",
       "      <td>NV</td>\n",
       "    </tr>\n",
       "    <tr>\n",
       "      <th>4</th>\n",
       "      <td>ISIC_0024310.jpg</td>\n",
       "      <td>MEL</td>\n",
       "    </tr>\n",
       "  </tbody>\n",
       "</table>\n",
       "</div>"
      ],
      "text/plain": [
       "     image_filename label\n",
       "0  ISIC_0024306.jpg    NV\n",
       "1  ISIC_0024307.jpg    NV\n",
       "2  ISIC_0024308.jpg    NV\n",
       "3  ISIC_0024309.jpg    NV\n",
       "4  ISIC_0024310.jpg   MEL"
      ]
     },
     "execution_count": 17,
     "metadata": {},
     "output_type": "execute_result"
    }
   ],
   "source": [
    "newLabelsDf = createNewLabelDataframe(groundTruthDf)\n",
    "newLabelsDf.head()"
   ]
  },
  {
   "cell_type": "code",
   "execution_count": 25,
   "metadata": {},
   "outputs": [],
   "source": [
    "newLabelsDf.to_csv(currPathStr + \"/csv_labels.csv\", index=False)"
   ]
  },
  {
   "cell_type": "markdown",
   "metadata": {},
   "source": [
    "## Create folders for image classes"
   ]
  },
  {
   "cell_type": "code",
   "execution_count": 24,
   "metadata": {},
   "outputs": [
    {
     "data": {
      "text/plain": [
       "['MEL', 'NV', 'BCC', 'AKIEC', 'BKL', 'DF', 'VASC']"
      ]
     },
     "execution_count": 24,
     "metadata": {},
     "output_type": "execute_result"
    }
   ],
   "source": [
    "classLabels = groundTruthDf.columns[1:].tolist()\n",
    "classLabels"
   ]
  },
  {
   "cell_type": "code",
   "execution_count": 58,
   "metadata": {},
   "outputs": [],
   "source": [
    "trainDatasetPath = Path('clean_data/train/skin_cancer')\n",
    "trainDatasetPathStr = str(trainDatasetPath)\n",
    "trainDatasetPath.mkdir(parents=True, exist_ok=True)\n",
    "\n",
    "validDatasetPath = Path('clean_data/valid/skin_cancer')\n",
    "validDatasetPathStr = str(validDatasetPath)\n",
    "validDatasetPath.mkdir(parents=True, exist_ok=True)"
   ]
  },
  {
   "cell_type": "code",
   "execution_count": 59,
   "metadata": {},
   "outputs": [
    {
     "name": "stdout",
     "output_type": "stream",
     "text": [
      "total 8\r\n",
      "drwxrwxr-x 2 luis luis 4096 Mar 10 23:40 .\r\n",
      "drwxrwxr-x 3 luis luis 4096 Mar 10 23:40 ..\r\n"
     ]
    }
   ],
   "source": [
    "! ls -la {trainDatasetPath}"
   ]
  },
  {
   "cell_type": "code",
   "execution_count": 60,
   "metadata": {},
   "outputs": [
    {
     "name": "stdout",
     "output_type": "stream",
     "text": [
      "total 8\r\n",
      "drwxrwxr-x 2 luis luis 4096 Mar 10 23:41 .\r\n",
      "drwxrwxr-x 3 luis luis 4096 Mar 10 23:41 ..\r\n"
     ]
    }
   ],
   "source": [
    "! ls -la {validDatasetPath}"
   ]
  },
  {
   "cell_type": "code",
   "execution_count": 61,
   "metadata": {},
   "outputs": [],
   "source": [
    "for i in classLabels:\n",
    "    dest1 = trainDatasetPath/i\n",
    "    dest1.mkdir(parents=True, exist_ok=True)\n",
    "    dest2 = validDatasetPath/i\n",
    "    dest2.mkdir(parents=True, exist_ok=True)"
   ]
  },
  {
   "cell_type": "code",
   "execution_count": 62,
   "metadata": {},
   "outputs": [
    {
     "name": "stdout",
     "output_type": "stream",
     "text": [
      "total 36\r\n",
      "drwxrwxr-x 9 luis luis 4096 Mar 10 23:42 .\r\n",
      "drwxrwxr-x 3 luis luis 4096 Mar 10 23:40 ..\r\n",
      "drwxrwxr-x 2 luis luis 4096 Mar 10 23:42 AKIEC\r\n",
      "drwxrwxr-x 2 luis luis 4096 Mar 10 23:42 BCC\r\n",
      "drwxrwxr-x 2 luis luis 4096 Mar 10 23:42 BKL\r\n",
      "drwxrwxr-x 2 luis luis 4096 Mar 10 23:42 DF\r\n",
      "drwxrwxr-x 2 luis luis 4096 Mar 10 23:42 MEL\r\n",
      "drwxrwxr-x 2 luis luis 4096 Mar 10 23:42 NV\r\n",
      "drwxrwxr-x 2 luis luis 4096 Mar 10 23:42 VASC\r\n"
     ]
    }
   ],
   "source": [
    "! ls -la {trainDatasetPath}"
   ]
  },
  {
   "cell_type": "code",
   "execution_count": 63,
   "metadata": {},
   "outputs": [
    {
     "name": "stdout",
     "output_type": "stream",
     "text": [
      "total 36\r\n",
      "drwxrwxr-x 9 luis luis 4096 Mar 10 23:42 .\r\n",
      "drwxrwxr-x 3 luis luis 4096 Mar 10 23:41 ..\r\n",
      "drwxrwxr-x 2 luis luis 4096 Mar 10 23:42 AKIEC\r\n",
      "drwxrwxr-x 2 luis luis 4096 Mar 10 23:42 BCC\r\n",
      "drwxrwxr-x 2 luis luis 4096 Mar 10 23:42 BKL\r\n",
      "drwxrwxr-x 2 luis luis 4096 Mar 10 23:42 DF\r\n",
      "drwxrwxr-x 2 luis luis 4096 Mar 10 23:42 MEL\r\n",
      "drwxrwxr-x 2 luis luis 4096 Mar 10 23:42 NV\r\n",
      "drwxrwxr-x 2 luis luis 4096 Mar 10 23:42 VASC\r\n"
     ]
    }
   ],
   "source": [
    "! ls -la {validDatasetPath}"
   ]
  },
  {
   "cell_type": "code",
   "execution_count": null,
   "metadata": {},
   "outputs": [],
   "source": [
    "# the following function will take a path of images and split them into their proper labels\n",
    "# into the destination folder\n",
    "# based on a certain labelled csv\n",
    "def imageNetFormat()"
   ]
  }
 ],
 "metadata": {
  "kernelspec": {
   "display_name": "Python 3",
   "language": "python",
   "name": "python3"
  },
  "language_info": {
   "codemirror_mode": {
    "name": "ipython",
    "version": 3
   },
   "file_extension": ".py",
   "mimetype": "text/x-python",
   "name": "python",
   "nbconvert_exporter": "python",
   "pygments_lexer": "ipython3",
   "version": "3.7.2"
  }
 },
 "nbformat": 4,
 "nbformat_minor": 2
}
